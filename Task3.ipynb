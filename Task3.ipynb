{
 "cells": [
  {
   "cell_type": "code",
   "execution_count": 1,
   "id": "worldwide-keyboard",
   "metadata": {},
   "outputs": [],
   "source": [
    "import pandas as pd"
   ]
  },
  {
   "cell_type": "code",
   "execution_count": 2,
   "id": "focused-violence",
   "metadata": {},
   "outputs": [],
   "source": [
    "cs=pd.read_csv('flipkart.csv')"
   ]
  },
  {
   "cell_type": "code",
   "execution_count": 3,
   "id": "eastern-personal",
   "metadata": {},
   "outputs": [],
   "source": [
    "df=pd.DataFrame(cs)"
   ]
  },
  {
   "cell_type": "code",
   "execution_count": 4,
   "id": "referenced-april",
   "metadata": {},
   "outputs": [],
   "source": [
    "df=df.drop(['uniq_id','crawl_timestamp','product_url','product_name','pid','retail_price','discounted_price','image','is_FK_Advantage_product','product_rating','overall_rating','brand','product_specifications'], axis = 1)"
   ]
  },
  {
   "cell_type": "code",
   "execution_count": 5,
   "id": "italian-devon",
   "metadata": {},
   "outputs": [
    {
     "data": {
      "text/html": [
       "<div>\n",
       "<style scoped>\n",
       "    .dataframe tbody tr th:only-of-type {\n",
       "        vertical-align: middle;\n",
       "    }\n",
       "\n",
       "    .dataframe tbody tr th {\n",
       "        vertical-align: top;\n",
       "    }\n",
       "\n",
       "    .dataframe thead th {\n",
       "        text-align: right;\n",
       "    }\n",
       "</style>\n",
       "<table border=\"1\" class=\"dataframe\">\n",
       "  <thead>\n",
       "    <tr style=\"text-align: right;\">\n",
       "      <th></th>\n",
       "      <th>product_category_tree</th>\n",
       "      <th>description</th>\n",
       "    </tr>\n",
       "  </thead>\n",
       "  <tbody>\n",
       "    <tr>\n",
       "      <th>0</th>\n",
       "      <td>[\"Clothing &gt;&gt; Women's Clothing &gt;&gt; Lingerie, Sl...</td>\n",
       "      <td>Key Features of Alisha Solid Women's Cycling S...</td>\n",
       "    </tr>\n",
       "    <tr>\n",
       "      <th>1</th>\n",
       "      <td>[\"Furniture &gt;&gt; Living Room Furniture &gt;&gt; Sofa B...</td>\n",
       "      <td>FabHomeDecor Fabric Double Sofa Bed (Finish Co...</td>\n",
       "    </tr>\n",
       "    <tr>\n",
       "      <th>2</th>\n",
       "      <td>[\"Footwear &gt;&gt; Women's Footwear &gt;&gt; Ballerinas &gt;...</td>\n",
       "      <td>Key Features of AW Bellies Sandals Wedges Heel...</td>\n",
       "    </tr>\n",
       "    <tr>\n",
       "      <th>3</th>\n",
       "      <td>[\"Clothing &gt;&gt; Women's Clothing &gt;&gt; Lingerie, Sl...</td>\n",
       "      <td>Key Features of Alisha Solid Women's Cycling S...</td>\n",
       "    </tr>\n",
       "    <tr>\n",
       "      <th>4</th>\n",
       "      <td>[\"Pet Supplies &gt;&gt; Grooming &gt;&gt; Skin &amp; Coat Care...</td>\n",
       "      <td>Specifications of Sicons All Purpose Arnica Do...</td>\n",
       "    </tr>\n",
       "    <tr>\n",
       "      <th>...</th>\n",
       "      <td>...</td>\n",
       "      <td>...</td>\n",
       "    </tr>\n",
       "    <tr>\n",
       "      <th>19995</th>\n",
       "      <td>[\"Baby Care &gt;&gt; Baby &amp; Kids Gifts &gt;&gt; Stickers &gt;...</td>\n",
       "      <td>Buy WallDesign Small Vinyl Sticker for Rs.730 ...</td>\n",
       "    </tr>\n",
       "    <tr>\n",
       "      <th>19996</th>\n",
       "      <td>[\"Baby Care &gt;&gt; Baby &amp; Kids Gifts &gt;&gt; Stickers &gt;...</td>\n",
       "      <td>Buy Wallmantra Large Vinyl Stickers Sticker fo...</td>\n",
       "    </tr>\n",
       "    <tr>\n",
       "      <th>19997</th>\n",
       "      <td>[\"Baby Care &gt;&gt; Baby &amp; Kids Gifts &gt;&gt; Stickers &gt;...</td>\n",
       "      <td>Buy Elite Collection Medium Acrylic Sticker fo...</td>\n",
       "    </tr>\n",
       "    <tr>\n",
       "      <th>19998</th>\n",
       "      <td>[\"Baby Care &gt;&gt; Baby &amp; Kids Gifts &gt;&gt; Stickers &gt;...</td>\n",
       "      <td>Buy Elite Collection Medium Acrylic Sticker fo...</td>\n",
       "    </tr>\n",
       "    <tr>\n",
       "      <th>19999</th>\n",
       "      <td>[\"Baby Care &gt;&gt; Baby &amp; Kids Gifts &gt;&gt; Stickers &gt;...</td>\n",
       "      <td>Buy Elite Collection Medium Acrylic Sticker fo...</td>\n",
       "    </tr>\n",
       "  </tbody>\n",
       "</table>\n",
       "<p>20000 rows × 2 columns</p>\n",
       "</div>"
      ],
      "text/plain": [
       "                                   product_category_tree  \\\n",
       "0      [\"Clothing >> Women's Clothing >> Lingerie, Sl...   \n",
       "1      [\"Furniture >> Living Room Furniture >> Sofa B...   \n",
       "2      [\"Footwear >> Women's Footwear >> Ballerinas >...   \n",
       "3      [\"Clothing >> Women's Clothing >> Lingerie, Sl...   \n",
       "4      [\"Pet Supplies >> Grooming >> Skin & Coat Care...   \n",
       "...                                                  ...   \n",
       "19995  [\"Baby Care >> Baby & Kids Gifts >> Stickers >...   \n",
       "19996  [\"Baby Care >> Baby & Kids Gifts >> Stickers >...   \n",
       "19997  [\"Baby Care >> Baby & Kids Gifts >> Stickers >...   \n",
       "19998  [\"Baby Care >> Baby & Kids Gifts >> Stickers >...   \n",
       "19999  [\"Baby Care >> Baby & Kids Gifts >> Stickers >...   \n",
       "\n",
       "                                             description  \n",
       "0      Key Features of Alisha Solid Women's Cycling S...  \n",
       "1      FabHomeDecor Fabric Double Sofa Bed (Finish Co...  \n",
       "2      Key Features of AW Bellies Sandals Wedges Heel...  \n",
       "3      Key Features of Alisha Solid Women's Cycling S...  \n",
       "4      Specifications of Sicons All Purpose Arnica Do...  \n",
       "...                                                  ...  \n",
       "19995  Buy WallDesign Small Vinyl Sticker for Rs.730 ...  \n",
       "19996  Buy Wallmantra Large Vinyl Stickers Sticker fo...  \n",
       "19997  Buy Elite Collection Medium Acrylic Sticker fo...  \n",
       "19998  Buy Elite Collection Medium Acrylic Sticker fo...  \n",
       "19999  Buy Elite Collection Medium Acrylic Sticker fo...  \n",
       "\n",
       "[20000 rows x 2 columns]"
      ]
     },
     "execution_count": 5,
     "metadata": {},
     "output_type": "execute_result"
    }
   ],
   "source": [
    "df"
   ]
  },
  {
   "cell_type": "code",
   "execution_count": 6,
   "id": "invisible-serum",
   "metadata": {},
   "outputs": [
    {
     "name": "stderr",
     "output_type": "stream",
     "text": [
      "C:\\Users\\sai mahanth\\anaconda3\\envs\\project\\lib\\site-packages\\spacy\\util.py:275: UserWarning: [W031] Model 'en_core_web_sm' (2.2.5) requires spaCy v2.2 and is incompatible with the current spaCy version (2.3.5). This may lead to unexpected results or runtime errors. To resolve this, download a newer compatible model or retrain your custom model with the current spaCy version. For more details and available updates, run: python -m spacy validate\n",
      "  warnings.warn(warn_msg)\n"
     ]
    }
   ],
   "source": [
    "import data_preprocessing as ps\n",
    "import re"
   ]
  },
  {
   "cell_type": "code",
   "execution_count": 7,
   "id": "sound-nitrogen",
   "metadata": {},
   "outputs": [],
   "source": [
    "def clean(x):\n",
    "    x=str(x).lower().replace('\\\\','').replace('_',' ').replace('<br />',' ')\n",
    "    x=ps.cont_exp(x) #expansion of sentences\n",
    "    x=ps.remove_urls(x)\n",
    "    x=ps.remove_html_tags(x)\n",
    "    x=ps.remove_accented_chars(x)\n",
    "    x=ps.remove_special_chars(x)\n",
    "    x=re.sub(\"(.)\\\\1{2,}\",\"\\\\1\",x) #removal of multi charcters in data\n",
    "    return x"
   ]
  },
  {
   "cell_type": "code",
   "execution_count": 8,
   "id": "sophisticated-equity",
   "metadata": {},
   "outputs": [],
   "source": [
    "def clr(y):\n",
    "    y=str(y)\n",
    "    c=''\n",
    "    for i in range(0,len(y)):\n",
    "        if(y[i]=='>'):\n",
    "            break\n",
    "        elif(y[i]=='[' or y[i]==']' or y[i]=='\"'):\n",
    "            c=c+''\n",
    "        else:\n",
    "            c=c+y[i]\n",
    "    return c\n",
    "df['product_category_tree']=df['product_category_tree'].apply(lambda y: clr(y))"
   ]
  },
  {
   "cell_type": "code",
   "execution_count": 9,
   "id": "impressive-strap",
   "metadata": {},
   "outputs": [
    {
     "data": {
      "text/html": [
       "<div>\n",
       "<style scoped>\n",
       "    .dataframe tbody tr th:only-of-type {\n",
       "        vertical-align: middle;\n",
       "    }\n",
       "\n",
       "    .dataframe tbody tr th {\n",
       "        vertical-align: top;\n",
       "    }\n",
       "\n",
       "    .dataframe thead th {\n",
       "        text-align: right;\n",
       "    }\n",
       "</style>\n",
       "<table border=\"1\" class=\"dataframe\">\n",
       "  <thead>\n",
       "    <tr style=\"text-align: right;\">\n",
       "      <th></th>\n",
       "      <th>product_category_tree</th>\n",
       "      <th>description</th>\n",
       "    </tr>\n",
       "  </thead>\n",
       "  <tbody>\n",
       "    <tr>\n",
       "      <th>0</th>\n",
       "      <td>Clothing</td>\n",
       "      <td>Key Features of Alisha Solid Women's Cycling S...</td>\n",
       "    </tr>\n",
       "    <tr>\n",
       "      <th>1</th>\n",
       "      <td>Furniture</td>\n",
       "      <td>FabHomeDecor Fabric Double Sofa Bed (Finish Co...</td>\n",
       "    </tr>\n",
       "    <tr>\n",
       "      <th>2</th>\n",
       "      <td>Footwear</td>\n",
       "      <td>Key Features of AW Bellies Sandals Wedges Heel...</td>\n",
       "    </tr>\n",
       "    <tr>\n",
       "      <th>3</th>\n",
       "      <td>Clothing</td>\n",
       "      <td>Key Features of Alisha Solid Women's Cycling S...</td>\n",
       "    </tr>\n",
       "    <tr>\n",
       "      <th>4</th>\n",
       "      <td>Pet Supplies</td>\n",
       "      <td>Specifications of Sicons All Purpose Arnica Do...</td>\n",
       "    </tr>\n",
       "    <tr>\n",
       "      <th>...</th>\n",
       "      <td>...</td>\n",
       "      <td>...</td>\n",
       "    </tr>\n",
       "    <tr>\n",
       "      <th>19995</th>\n",
       "      <td>Baby Care</td>\n",
       "      <td>Buy WallDesign Small Vinyl Sticker for Rs.730 ...</td>\n",
       "    </tr>\n",
       "    <tr>\n",
       "      <th>19996</th>\n",
       "      <td>Baby Care</td>\n",
       "      <td>Buy Wallmantra Large Vinyl Stickers Sticker fo...</td>\n",
       "    </tr>\n",
       "    <tr>\n",
       "      <th>19997</th>\n",
       "      <td>Baby Care</td>\n",
       "      <td>Buy Elite Collection Medium Acrylic Sticker fo...</td>\n",
       "    </tr>\n",
       "    <tr>\n",
       "      <th>19998</th>\n",
       "      <td>Baby Care</td>\n",
       "      <td>Buy Elite Collection Medium Acrylic Sticker fo...</td>\n",
       "    </tr>\n",
       "    <tr>\n",
       "      <th>19999</th>\n",
       "      <td>Baby Care</td>\n",
       "      <td>Buy Elite Collection Medium Acrylic Sticker fo...</td>\n",
       "    </tr>\n",
       "  </tbody>\n",
       "</table>\n",
       "<p>20000 rows × 2 columns</p>\n",
       "</div>"
      ],
      "text/plain": [
       "      product_category_tree                                        description\n",
       "0                 Clothing   Key Features of Alisha Solid Women's Cycling S...\n",
       "1                Furniture   FabHomeDecor Fabric Double Sofa Bed (Finish Co...\n",
       "2                 Footwear   Key Features of AW Bellies Sandals Wedges Heel...\n",
       "3                 Clothing   Key Features of Alisha Solid Women's Cycling S...\n",
       "4             Pet Supplies   Specifications of Sicons All Purpose Arnica Do...\n",
       "...                     ...                                                ...\n",
       "19995            Baby Care   Buy WallDesign Small Vinyl Sticker for Rs.730 ...\n",
       "19996            Baby Care   Buy Wallmantra Large Vinyl Stickers Sticker fo...\n",
       "19997            Baby Care   Buy Elite Collection Medium Acrylic Sticker fo...\n",
       "19998            Baby Care   Buy Elite Collection Medium Acrylic Sticker fo...\n",
       "19999            Baby Care   Buy Elite Collection Medium Acrylic Sticker fo...\n",
       "\n",
       "[20000 rows x 2 columns]"
      ]
     },
     "execution_count": 9,
     "metadata": {},
     "output_type": "execute_result"
    }
   ],
   "source": [
    "df"
   ]
  },
  {
   "cell_type": "code",
   "execution_count": 10,
   "id": "electrical-routine",
   "metadata": {},
   "outputs": [
    {
     "data": {
      "text/plain": [
       "0        None\n",
       "1        None\n",
       "2        None\n",
       "3        None\n",
       "4        None\n",
       "         ... \n",
       "19995    None\n",
       "19996    None\n",
       "19997    None\n",
       "19998    None\n",
       "19999    None\n",
       "Name: product_category_tree, Length: 20000, dtype: object"
      ]
     },
     "execution_count": 10,
     "metadata": {},
     "output_type": "execute_result"
    }
   ],
   "source": [
    "a=[]\n",
    "def test(y):\n",
    "    if y not in a:\n",
    "        a.append(y)\n",
    "df['product_category_tree'].apply(lambda y: test(y))"
   ]
  },
  {
   "cell_type": "code",
   "execution_count": 11,
   "id": "agreed-packaging",
   "metadata": {},
   "outputs": [
    {
     "data": {
      "text/html": [
       "<div>\n",
       "<style scoped>\n",
       "    .dataframe tbody tr th:only-of-type {\n",
       "        vertical-align: middle;\n",
       "    }\n",
       "\n",
       "    .dataframe tbody tr th {\n",
       "        vertical-align: top;\n",
       "    }\n",
       "\n",
       "    .dataframe thead th {\n",
       "        text-align: right;\n",
       "    }\n",
       "</style>\n",
       "<table border=\"1\" class=\"dataframe\">\n",
       "  <thead>\n",
       "    <tr style=\"text-align: right;\">\n",
       "      <th></th>\n",
       "      <th>product_category_tree</th>\n",
       "      <th>description</th>\n",
       "    </tr>\n",
       "  </thead>\n",
       "  <tbody>\n",
       "    <tr>\n",
       "      <th>0</th>\n",
       "      <td>Clothing</td>\n",
       "      <td>Key Features of Alisha Solid Women's Cycling S...</td>\n",
       "    </tr>\n",
       "    <tr>\n",
       "      <th>1</th>\n",
       "      <td>Furniture</td>\n",
       "      <td>FabHomeDecor Fabric Double Sofa Bed (Finish Co...</td>\n",
       "    </tr>\n",
       "    <tr>\n",
       "      <th>2</th>\n",
       "      <td>Footwear</td>\n",
       "      <td>Key Features of AW Bellies Sandals Wedges Heel...</td>\n",
       "    </tr>\n",
       "    <tr>\n",
       "      <th>3</th>\n",
       "      <td>Clothing</td>\n",
       "      <td>Key Features of Alisha Solid Women's Cycling S...</td>\n",
       "    </tr>\n",
       "    <tr>\n",
       "      <th>4</th>\n",
       "      <td>Pet Supplies</td>\n",
       "      <td>Specifications of Sicons All Purpose Arnica Do...</td>\n",
       "    </tr>\n",
       "    <tr>\n",
       "      <th>...</th>\n",
       "      <td>...</td>\n",
       "      <td>...</td>\n",
       "    </tr>\n",
       "    <tr>\n",
       "      <th>19995</th>\n",
       "      <td>Baby Care</td>\n",
       "      <td>Buy WallDesign Small Vinyl Sticker for Rs.730 ...</td>\n",
       "    </tr>\n",
       "    <tr>\n",
       "      <th>19996</th>\n",
       "      <td>Baby Care</td>\n",
       "      <td>Buy Wallmantra Large Vinyl Stickers Sticker fo...</td>\n",
       "    </tr>\n",
       "    <tr>\n",
       "      <th>19997</th>\n",
       "      <td>Baby Care</td>\n",
       "      <td>Buy Elite Collection Medium Acrylic Sticker fo...</td>\n",
       "    </tr>\n",
       "    <tr>\n",
       "      <th>19998</th>\n",
       "      <td>Baby Care</td>\n",
       "      <td>Buy Elite Collection Medium Acrylic Sticker fo...</td>\n",
       "    </tr>\n",
       "    <tr>\n",
       "      <th>19999</th>\n",
       "      <td>Baby Care</td>\n",
       "      <td>Buy Elite Collection Medium Acrylic Sticker fo...</td>\n",
       "    </tr>\n",
       "  </tbody>\n",
       "</table>\n",
       "<p>20000 rows × 2 columns</p>\n",
       "</div>"
      ],
      "text/plain": [
       "      product_category_tree                                        description\n",
       "0                 Clothing   Key Features of Alisha Solid Women's Cycling S...\n",
       "1                Furniture   FabHomeDecor Fabric Double Sofa Bed (Finish Co...\n",
       "2                 Footwear   Key Features of AW Bellies Sandals Wedges Heel...\n",
       "3                 Clothing   Key Features of Alisha Solid Women's Cycling S...\n",
       "4             Pet Supplies   Specifications of Sicons All Purpose Arnica Do...\n",
       "...                     ...                                                ...\n",
       "19995            Baby Care   Buy WallDesign Small Vinyl Sticker for Rs.730 ...\n",
       "19996            Baby Care   Buy Wallmantra Large Vinyl Stickers Sticker fo...\n",
       "19997            Baby Care   Buy Elite Collection Medium Acrylic Sticker fo...\n",
       "19998            Baby Care   Buy Elite Collection Medium Acrylic Sticker fo...\n",
       "19999            Baby Care   Buy Elite Collection Medium Acrylic Sticker fo...\n",
       "\n",
       "[20000 rows x 2 columns]"
      ]
     },
     "execution_count": 11,
     "metadata": {},
     "output_type": "execute_result"
    }
   ],
   "source": [
    "a\n",
    "df"
   ]
  },
  {
   "cell_type": "code",
   "execution_count": 12,
   "id": "tropical-belief",
   "metadata": {},
   "outputs": [
    {
     "data": {
      "text/plain": [
       "266"
      ]
     },
     "execution_count": 12,
     "metadata": {},
     "output_type": "execute_result"
    }
   ],
   "source": [
    "len(a)"
   ]
  },
  {
   "cell_type": "code",
   "execution_count": 13,
   "id": "hazardous-height",
   "metadata": {},
   "outputs": [],
   "source": [
    "def num(y):\n",
    "    y=str(y)\n",
    "    if y in a:\n",
    "        lm=a.index(y)\n",
    "        return lm\n",
    "    else:\n",
    "        return -1\n",
    "df['product_category_tree']=df['product_category_tree'].apply(lambda y: num(y))"
   ]
  },
  {
   "cell_type": "code",
   "execution_count": 14,
   "id": "instrumental-ballot",
   "metadata": {},
   "outputs": [
    {
     "data": {
      "text/html": [
       "<div>\n",
       "<style scoped>\n",
       "    .dataframe tbody tr th:only-of-type {\n",
       "        vertical-align: middle;\n",
       "    }\n",
       "\n",
       "    .dataframe tbody tr th {\n",
       "        vertical-align: top;\n",
       "    }\n",
       "\n",
       "    .dataframe thead th {\n",
       "        text-align: right;\n",
       "    }\n",
       "</style>\n",
       "<table border=\"1\" class=\"dataframe\">\n",
       "  <thead>\n",
       "    <tr style=\"text-align: right;\">\n",
       "      <th></th>\n",
       "      <th>product_category_tree</th>\n",
       "      <th>description</th>\n",
       "    </tr>\n",
       "  </thead>\n",
       "  <tbody>\n",
       "    <tr>\n",
       "      <th>0</th>\n",
       "      <td>0</td>\n",
       "      <td>Key Features of Alisha Solid Women's Cycling S...</td>\n",
       "    </tr>\n",
       "    <tr>\n",
       "      <th>1</th>\n",
       "      <td>1</td>\n",
       "      <td>FabHomeDecor Fabric Double Sofa Bed (Finish Co...</td>\n",
       "    </tr>\n",
       "    <tr>\n",
       "      <th>2</th>\n",
       "      <td>2</td>\n",
       "      <td>Key Features of AW Bellies Sandals Wedges Heel...</td>\n",
       "    </tr>\n",
       "    <tr>\n",
       "      <th>3</th>\n",
       "      <td>0</td>\n",
       "      <td>Key Features of Alisha Solid Women's Cycling S...</td>\n",
       "    </tr>\n",
       "    <tr>\n",
       "      <th>4</th>\n",
       "      <td>3</td>\n",
       "      <td>Specifications of Sicons All Purpose Arnica Do...</td>\n",
       "    </tr>\n",
       "    <tr>\n",
       "      <th>...</th>\n",
       "      <td>...</td>\n",
       "      <td>...</td>\n",
       "    </tr>\n",
       "    <tr>\n",
       "      <th>19995</th>\n",
       "      <td>24</td>\n",
       "      <td>Buy WallDesign Small Vinyl Sticker for Rs.730 ...</td>\n",
       "    </tr>\n",
       "    <tr>\n",
       "      <th>19996</th>\n",
       "      <td>24</td>\n",
       "      <td>Buy Wallmantra Large Vinyl Stickers Sticker fo...</td>\n",
       "    </tr>\n",
       "    <tr>\n",
       "      <th>19997</th>\n",
       "      <td>24</td>\n",
       "      <td>Buy Elite Collection Medium Acrylic Sticker fo...</td>\n",
       "    </tr>\n",
       "    <tr>\n",
       "      <th>19998</th>\n",
       "      <td>24</td>\n",
       "      <td>Buy Elite Collection Medium Acrylic Sticker fo...</td>\n",
       "    </tr>\n",
       "    <tr>\n",
       "      <th>19999</th>\n",
       "      <td>24</td>\n",
       "      <td>Buy Elite Collection Medium Acrylic Sticker fo...</td>\n",
       "    </tr>\n",
       "  </tbody>\n",
       "</table>\n",
       "<p>20000 rows × 2 columns</p>\n",
       "</div>"
      ],
      "text/plain": [
       "       product_category_tree  \\\n",
       "0                          0   \n",
       "1                          1   \n",
       "2                          2   \n",
       "3                          0   \n",
       "4                          3   \n",
       "...                      ...   \n",
       "19995                     24   \n",
       "19996                     24   \n",
       "19997                     24   \n",
       "19998                     24   \n",
       "19999                     24   \n",
       "\n",
       "                                             description  \n",
       "0      Key Features of Alisha Solid Women's Cycling S...  \n",
       "1      FabHomeDecor Fabric Double Sofa Bed (Finish Co...  \n",
       "2      Key Features of AW Bellies Sandals Wedges Heel...  \n",
       "3      Key Features of Alisha Solid Women's Cycling S...  \n",
       "4      Specifications of Sicons All Purpose Arnica Do...  \n",
       "...                                                  ...  \n",
       "19995  Buy WallDesign Small Vinyl Sticker for Rs.730 ...  \n",
       "19996  Buy Wallmantra Large Vinyl Stickers Sticker fo...  \n",
       "19997  Buy Elite Collection Medium Acrylic Sticker fo...  \n",
       "19998  Buy Elite Collection Medium Acrylic Sticker fo...  \n",
       "19999  Buy Elite Collection Medium Acrylic Sticker fo...  \n",
       "\n",
       "[20000 rows x 2 columns]"
      ]
     },
     "execution_count": 14,
     "metadata": {},
     "output_type": "execute_result"
    }
   ],
   "source": [
    "df"
   ]
  },
  {
   "cell_type": "code",
   "execution_count": 15,
   "id": "weekly-treatment",
   "metadata": {},
   "outputs": [],
   "source": [
    "df['description']=df['description'].apply(lambda x: clean(x)) "
   ]
  },
  {
   "cell_type": "code",
   "execution_count": 16,
   "id": "excellent-framework",
   "metadata": {},
   "outputs": [],
   "source": [
    "import numpy as np\n",
    "from sklearn.model_selection import train_test_split"
   ]
  },
  {
   "cell_type": "code",
   "execution_count": 17,
   "id": "persistent-engagement",
   "metadata": {},
   "outputs": [],
   "source": [
    "df_x=df['description']\n",
    "df_y=df['product_category_tree']\n",
    "x_train,x_test,y_train,y_test=train_test_split(df_x,df_y,test_size=0.2,random_state=0)"
   ]
  },
  {
   "cell_type": "code",
   "execution_count": 18,
   "id": "automatic-walnut",
   "metadata": {},
   "outputs": [],
   "source": [
    "from nltk.tokenize import word_tokenize\n",
    "from nltk.corpus import stopwords\n",
    "from keras.preprocessing.text import one_hot\n",
    "from keras.preprocessing import sequence"
   ]
  },
  {
   "cell_type": "code",
   "execution_count": 19,
   "id": "elect-andrews",
   "metadata": {},
   "outputs": [],
   "source": [
    "stopwords=set(stopwords.words('english'))"
   ]
  },
  {
   "cell_type": "code",
   "execution_count": 20,
   "id": "accomplished-partner",
   "metadata": {},
   "outputs": [],
   "source": [
    "res=[]\n",
    "my_vocab_size=100000\n",
    "def encod(z):\n",
    "    enc=[]\n",
    "    z=word_tokenize(z)\n",
    "    new_words=[]\n",
    "    for w in z:\n",
    "        if w not in stopwords:\n",
    "            new_words.append(w)\n",
    "    for i in new_words:\n",
    "        enc.append(one_hot(i,my_vocab_size)[0])\n",
    "    res.append(enc)"
   ]
  },
  {
   "cell_type": "code",
   "execution_count": 21,
   "id": "productive-brook",
   "metadata": {},
   "outputs": [],
   "source": [
    "x_train.apply(lambda z : encod(z))\n",
    "x_tr=res\n",
    "res=[]\n",
    "x_test.apply(lambda z : encod(z))\n",
    "x_te=res"
   ]
  },
  {
   "cell_type": "code",
   "execution_count": 22,
   "id": "solid-orientation",
   "metadata": {},
   "outputs": [
    {
     "name": "stderr",
     "output_type": "stream",
     "text": [
      "<ipython-input-22-32be2675650a>:1: VisibleDeprecationWarning: Creating an ndarray from ragged nested sequences (which is a list-or-tuple of lists-or-tuples-or ndarrays with different lengths or shapes) is deprecated. If you meant to do this, you must specify 'dtype=object' when creating the ndarray\n",
      "  x_tr=np.array(x_tr)\n",
      "<ipython-input-22-32be2675650a>:2: VisibleDeprecationWarning: Creating an ndarray from ragged nested sequences (which is a list-or-tuple of lists-or-tuples-or ndarrays with different lengths or shapes) is deprecated. If you meant to do this, you must specify 'dtype=object' when creating the ndarray\n",
      "  x_te=np.array(x_te)\n"
     ]
    }
   ],
   "source": [
    "x_tr=np.array(x_tr)\n",
    "x_te=np.array(x_te)"
   ]
  },
  {
   "cell_type": "code",
   "execution_count": 23,
   "id": "enormous-census",
   "metadata": {},
   "outputs": [],
   "source": [
    "max_desc_length = 500\n",
    "x_tr = sequence.pad_sequences(x_tr, maxlen=max_desc_length)\n",
    "x_te = sequence.pad_sequences(x_te, maxlen=max_desc_length)"
   ]
  },
  {
   "cell_type": "code",
   "execution_count": 24,
   "id": "lesser-kingston",
   "metadata": {},
   "outputs": [],
   "source": [
    "from keras.models import Sequential\n",
    "from keras.layers import Dense\n",
    "from keras.layers import LSTM, Dropout\n",
    "from keras.layers.embeddings import Embedding"
   ]
  },
  {
   "cell_type": "code",
   "execution_count": 34,
   "id": "mediterranean-helena",
   "metadata": {},
   "outputs": [],
   "source": [
    "model = Sequential()\n",
    "model.add(Embedding(100000, 64,input_length=500))\n",
    "model.add(Dropout(0.2))\n",
    "model.add(LSTM(100))\n",
    "model.add(Dropout(0.2))\n",
    "model.add(Dropout(0.2))\n",
    "model.add(Dropout(0.2))\n",
    "model.add(Dropout(0.2))\n",
    "model.add(Dropout(0.2))\n",
    "model.add(Dropout(0.2))\n",
    "model.add(Dropout(0.2))\n",
    "model.add(Dropout(0.2))\n",
    "model.add(Dropout(0.2))\n",
    "model.add(Dropout(0.2))\n",
    "model.add(Dropout(0.2))\n",
    "model.add(Dropout(0.2))\n",
    "model.add(Dropout(0.2))\n",
    "model.add(Dropout(0.2))\n",
    "model.add(Dropout(0.2))\n",
    "model.add(Dropout(0.2))\n",
    "model.add(Dense(1, activation='sigmoid'))"
   ]
  },
  {
   "cell_type": "code",
   "execution_count": 35,
   "id": "roman-transportation",
   "metadata": {},
   "outputs": [],
   "source": [
    "model.compile(loss='binary_crossentropy', optimizer='adam', metrics=['accuracy'])"
   ]
  },
  {
   "cell_type": "code",
   "execution_count": 36,
   "id": "featured-spectacular",
   "metadata": {},
   "outputs": [
    {
     "name": "stdout",
     "output_type": "stream",
     "text": [
      "250/250 [==============================] - 125s 499ms/step - loss: -271.4448 - accuracy: 0.0156 - val_loss: -442.4452 - val_accuracy: 0.0110\n"
     ]
    },
    {
     "data": {
      "text/plain": [
       "<tensorflow.python.keras.callbacks.History at 0x1fb56c478b0>"
      ]
     },
     "execution_count": 36,
     "metadata": {},
     "output_type": "execute_result"
    }
   ],
   "source": [
    "model.fit(x_tr, y_train, validation_data=(x_te, y_test), epochs=1, batch_size=64)"
   ]
  },
  {
   "cell_type": "code",
   "execution_count": 37,
   "id": "heated-berry",
   "metadata": {},
   "outputs": [
    {
     "name": "stdout",
     "output_type": "stream",
     "text": [
      "Accuracy: 1.10%\n"
     ]
    }
   ],
   "source": [
    "scores = model.evaluate(x_te, y_test, verbose=0)\n",
    "print(\"Accuracy: %.2f%%\" % (scores[1]*100))"
   ]
  },
  {
   "cell_type": "code",
   "execution_count": null,
   "id": "killing-kentucky",
   "metadata": {},
   "outputs": [],
   "source": [
    "model.summary()"
   ]
  },
  {
   "cell_type": "code",
   "execution_count": null,
   "id": "hungry-jerusalem",
   "metadata": {},
   "outputs": [],
   "source": [
    "text2=\"Specifications of Sicons All Purpose Arnica Dog Shampoo (500 ml) General Pet Type Dog Brand Sicons Quantity 500 ml Model Number SH.DF-14 Type All Purpose Fragrance Arnica Form Factor Liquid In the Box Sales Package Shampoo Sicons Dog Fashion Arnica\""
   ]
  },
  {
   "cell_type": "code",
   "execution_count": null,
   "id": "blond-polls",
   "metadata": {},
   "outputs": [],
   "source": [
    "cleaned2=clean(text2)"
   ]
  },
  {
   "cell_type": "code",
   "execution_count": null,
   "id": "affected-accommodation",
   "metadata": {},
   "outputs": [],
   "source": [
    "res=[]\n",
    "encod(cleaned2)\n",
    "y_t=res\n",
    "y_t=np.array(y_t)"
   ]
  },
  {
   "cell_type": "code",
   "execution_count": null,
   "id": "sticky-judgment",
   "metadata": {},
   "outputs": [],
   "source": [
    "y_t=sequence.pad_sequences(y_t, maxlen=max_desc_length)"
   ]
  },
  {
   "cell_type": "code",
   "execution_count": null,
   "id": "pending-friendship",
   "metadata": {},
   "outputs": [],
   "source": [
    "model.predict_classes(y_t)"
   ]
  },
  {
   "cell_type": "code",
   "execution_count": null,
   "id": "going-piece",
   "metadata": {},
   "outputs": [],
   "source": []
  },
  {
   "cell_type": "code",
   "execution_count": null,
   "id": "purple-group",
   "metadata": {},
   "outputs": [],
   "source": []
  }
 ],
 "metadata": {
  "kernelspec": {
   "display_name": "Python 3",
   "language": "python",
   "name": "python3"
  },
  "language_info": {
   "codemirror_mode": {
    "name": "ipython",
    "version": 3
   },
   "file_extension": ".py",
   "mimetype": "text/x-python",
   "name": "python",
   "nbconvert_exporter": "python",
   "pygments_lexer": "ipython3",
   "version": "3.8.5"
  }
 },
 "nbformat": 4,
 "nbformat_minor": 5
}
